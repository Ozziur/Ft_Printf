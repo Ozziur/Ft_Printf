{
  "nbformat": 4,
  "nbformat_minor": 0,
  "metadata": {
    "colab": {
      "name": "week2.ipynb",
      "provenance": [],
      "collapsed_sections": [],
      "authorship_tag": "ABX9TyN4fZT8Bo8HvfCUekQtOgfG",
      "include_colab_link": true
    },
    "kernelspec": {
      "name": "python3",
      "display_name": "Python 3"
    },
    "language_info": {
      "name": "python"
    }
  },
  "cells": [
    {
      "cell_type": "markdown",
      "metadata": {
        "id": "view-in-github",
        "colab_type": "text"
      },
      "source": [
        "<a href=\"https://colab.research.google.com/github/Ozziur/Ft_Printf/blob/main/week2.ipynb\" target=\"_parent\"><img src=\"https://colab.research.google.com/assets/colab-badge.svg\" alt=\"Open In Colab\"/></a>"
      ]
    },
    {
      "cell_type": "code",
      "execution_count": null,
      "metadata": {
        "id": "RKic06lqXBGj"
      },
      "outputs": [],
      "source": [
        "import numpy as np\n",
        "\n",
        "ar1=np.zeros((1,10), dtype=int)\n",
        "ar2=np.ones((1,10),dtype=int)\n",
        "ar3=np.arange(10,51)\n",
        "ar4=np.arange(10,51, 2)\n",
        "ar5=np.zeros((3,3), dtype=int)\n",
        "\n",
        "rand=np.random.choice([0,1])\n",
        "\n",
        "ar7=np.array([0. , 0.11111111, 0.22222222, 0.33333333, 0.44444444, 0.55555555, 0.66666667, 0.77777778, 0.88888889, 1.]) \n",
        "print(ar7)\n",
        "\n"
      ]
    },
    {
      "cell_type": "code",
      "source": [
        "import matplotlib.pyplot as plt\n",
        "import numpy as np\n",
        "\n",
        "\n",
        "matrix = np.matrix(([1,2],[3,4]))\n",
        "ar=np.arange(0,12)\n",
        "ar=np.reshape(ar,[3,4])\n",
        "\n",
        "\n",
        "def q3(n):\n",
        "  ar=np.arange(0,1,1/n)\n",
        "  return ar\n",
        "np.shape(q3(10))\n",
        "\n",
        "\n",
        "x = np.random.random((10,12))\n",
        "\n",
        "print (x)\n",
        "\n"
      ],
      "metadata": {
        "colab": {
          "base_uri": "https://localhost:8080/"
        },
        "id": "O6X0BfZ4gVNf",
        "outputId": "9e37b4a8-a7da-4543-ef1b-53d0f10e8206"
      },
      "execution_count": 120,
      "outputs": [
        {
          "output_type": "stream",
          "name": "stdout",
          "text": [
            "[[0.39475636 0.69388143 0.63611979 0.75718443 0.79359624 0.46715394\n",
            "  0.10910859 0.51542353 0.09037075 0.14684836 0.24330794 0.3928042 ]\n",
            " [0.0485579  0.50323888 0.30491449 0.74222974 0.71133921 0.01654447\n",
            "  0.6394344  0.57076613 0.67997434 0.97157651 0.43694211 0.69702418]\n",
            " [0.29464357 0.97091128 0.39805141 0.78288044 0.61427389 0.21220069\n",
            "  0.92747479 0.76877625 0.80077922 0.23673894 0.39572958 0.68104259]\n",
            " [0.10294498 0.52112337 0.39813358 0.84581478 0.6511374  0.86546234\n",
            "  0.18937341 0.05739149 0.420866   0.14876524 0.34814536 0.90601494]\n",
            " [0.54334173 0.67563656 0.42947846 0.84109156 0.62390408 0.93471915\n",
            "  0.64508871 0.61119942 0.33468843 0.27505725 0.74417523 0.87529729]\n",
            " [0.96966688 0.69077764 0.86538045 0.86284885 0.3633951  0.96615941\n",
            "  0.67706649 0.64900396 0.39827048 0.85362677 0.98156266 0.70561662]\n",
            " [0.95116056 0.82069748 0.33629404 0.58531108 0.51280975 0.33802857\n",
            "  0.14669292 0.84864359 0.5968432  0.4655319  0.14707639 0.56425248]\n",
            " [0.52486469 0.83559682 0.23164039 0.38344624 0.11690181 0.24705409\n",
            "  0.88617582 0.33542756 0.51261742 0.99787639 0.3587741  0.20698991]\n",
            " [0.40503022 0.13445879 0.62787673 0.26835529 0.31621539 0.34410706\n",
            "  0.36610677 0.88311665 0.98447094 0.02776449 0.31214677 0.92935644]\n",
            " [0.84421566 0.68119134 0.86169727 0.18104397 0.41479143 0.32184835\n",
            "  0.03020309 0.20314474 0.95003833 0.30567646 0.34675828 0.86341202]]\n"
          ]
        }
      ]
    }
  ]
}